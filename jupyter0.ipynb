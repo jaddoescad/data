{
  "nbformat": 4,
  "nbformat_minor": 0,
  "metadata": {
    "colab": {
      "name": "jupyter0.ipynb",
      "version": "0.3.2",
      "views": {},
      "default_view": {},
      "provenance": [],
      "collapsed_sections": []
    },
    "kernelspec": {
      "name": "python3",
      "display_name": "Python 3"
    }
  },
  "cells": [
    {
      "metadata": {
        "id": "Jb8ZZH6Mmx0W",
        "colab_type": "code",
        "colab": {
          "autoexec": {
            "startup": false,
            "wait_interval": 0
          }
        }
      },
      "cell_type": "code",
      "source": [
        "!ls"
      ],
      "execution_count": 0,
      "outputs": []
    },
    {
      "metadata": {
        "id": "qUa8Grk_m9hL",
        "colab_type": "code",
        "colab": {
          "autoexec": {
            "startup": false,
            "wait_interval": 0
          }
        }
      },
      "cell_type": "code",
      "source": [
        "import cv2\n",
        "import numpy as np\n",
        "import csv\n",
        "import tensorflow\n",
        "import keras\n",
        "from keras.models import Sequential\n",
        "from keras.layers import Flatten, Dense, Conv2D, MaxPooling2D \n",
        "from keras.layers import Lambda, Cropping2D, Dropout, ELU\n",
        "from keras.layers import BatchNormalization\n",
        "from keras.optimizers import Adam\n",
        "from keras.callbacks import EarlyStopping, ModelCheckpoint\n",
        "\n",
        "from sklearn.model_selection import train_test_split\n",
        "from sklearn.utils import shuffle\n",
        "\n",
        "import matplotlib.pyplot as plt\n",
        "import matplotlib.image as mpimg\n",
        "import pandas as pd"
      ],
      "execution_count": 0,
      "outputs": []
    },
    {
      "metadata": {
        "id": "_dCX9tYpEinP",
        "colab_type": "code",
        "colab": {
          "autoexec": {
            "startup": false,
            "wait_interval": 0
          }
        }
      },
      "cell_type": "code",
      "source": [
        "#find versions\n",
        "import sys\n",
        "import tensorflow\n",
        "\n",
        "print (sys.version)\n",
        "print(np.version.version)\n",
        "print(tensorflow.__version__)\n",
        "print(keras.__version__)"
      ],
      "execution_count": 0,
      "outputs": []
    },
    {
      "metadata": {
        "id": "j9B-hx9XrQVW",
        "colab_type": "code",
        "colab": {
          "autoexec": {
            "startup": false,
            "wait_interval": 0
          }
        }
      },
      "cell_type": "code",
      "source": [
        "#load lines in csv file to read the images #load l \n",
        "def load_csv(file):\n",
        "    lines = []\n",
        "    with open(file) as csvfile:\n",
        "        reader = csv.reader(csvfile)\n",
        "        for line in reader:\n",
        "            lines.append(line)\n",
        "    return lines[1:]"
      ],
      "execution_count": 0,
      "outputs": []
    },
    {
      "metadata": {
        "id": "Dxh6nzoBwGTN",
        "colab_type": "code",
        "colab": {
          "autoexec": {
            "startup": false,
            "wait_interval": 0
          }
        }
      },
      "cell_type": "code",
      "source": [
        "file = 'Behavioral-Cloning/data/driving_log.csv'\n",
        "image_path = 'Behavioral-Cloning/data/IMG/'"
      ],
      "execution_count": 0,
      "outputs": []
    },
    {
      "metadata": {
        "id": "pARz667goyvQ",
        "colab_type": "code",
        "colab": {
          "autoexec": {
            "startup": false,
            "wait_interval": 0
          }
        }
      },
      "cell_type": "code",
      "source": [
        "#load image names in the csv file\n",
        "lines_path = load_csv(file)\n",
        "\n",
        "#split not the data just their names\n",
        "# We don't need to test images because it is a regression problem not classification.\n",
        "train_samples, validation_samples = train_test_split(lines_path, shuffle=True, test_size=0.2)\n",
        "\n",
        "print(lines_path)"
      ],
      "execution_count": 0,
      "outputs": []
    },
    {
      "metadata": {
        "id": "xBRVjRQns1oz",
        "colab_type": "code",
        "colab": {
          "autoexec": {
            "startup": false,
            "wait_interval": 0
          }
        }
      },
      "cell_type": "code",
      "source": [
        "# generally load images in the file \n",
        "def load_images(lines_path, image_path):\n",
        "    path = image_path \n",
        "    lines = lines_path\n",
        "    images = []\n",
        "    angles = []\n",
        "    \n",
        "    for line in lines:\n",
        "        for i in range(3):\n",
        "            source_path = line[i]\n",
        "            filename = source_path.split('/')[-1]\n",
        "            current_path = path+filename\n",
        "            image = cv2.imread(current_path)\n",
        "            images.append(image)\n",
        "            angle = float(line[3])\n",
        "            if i == 0:\n",
        "                angles.append(angle)\n",
        "            elif i == 1:\n",
        "                angles.append(angle + 0.20)\n",
        "            else:\n",
        "                angles.append(angle - 0.20)\n",
        "    X_train = np.array(images)\n",
        "    y_train = np.array(angles) \n",
        "    return X_train, y_train"
      ],
      "execution_count": 0,
      "outputs": []
    },
    {
      "metadata": {
        "id": "hjYzVjy0ogAJ",
        "colab_type": "code",
        "colab": {
          "autoexec": {
            "startup": false,
            "wait_interval": 0
          }
        }
      },
      "cell_type": "code",
      "source": [
        "import time\n",
        "t0 = time.time()\n",
        "X_train_normal, y_train_normal = load_images(train_samples, image_path)\n",
        "X_valid_normal, y_valid_normal = load_images(validation_samples, image_path)\n",
        "t1=time.time()\n",
        "print(\"total seconds for loaded: {} sn\".format(round(t1-t0)))"
      ],
      "execution_count": 0,
      "outputs": []
    },
    {
      "metadata": {
        "id": "xQFy0SAdoRNY",
        "colab_type": "code",
        "colab": {
          "autoexec": {
            "startup": false,
            "wait_interval": 0
          }
        }
      },
      "cell_type": "code",
      "source": [
        "def resize(img):\n",
        "    return tensorflow.image.resize_images(img, (60, 120))"
      ],
      "execution_count": 0,
      "outputs": []
    },
    {
      "metadata": {
        "id": "n-nz1ArCoNFp",
        "colab_type": "code",
        "colab": {
          "autoexec": {
            "startup": false,
            "wait_interval": 0
          }
        }
      },
      "cell_type": "code",
      "source": [
        "model = Sequential()\n",
        "\n",
        "# Crop 70 pixels from the top of the image and 25 from the bottom\n",
        "model.add(Cropping2D(cropping=((75, 25), (0, 0)),\n",
        "                     input_shape=(160, 320, 3),\n",
        "                     data_format=\"channels_last\"))\n",
        "\n",
        "# Resize the data\n",
        "model.add(Lambda(resize))\n",
        "\n",
        "# Normalize the data\n",
        "model.add(Lambda(lambda x: (x/127.5) - 0.5))\n",
        "\n",
        "model.add(Conv2D(3, (1, 1), padding='same'))\n",
        "model.add(ELU())\n",
        "\n",
        "model.add(BatchNormalization())\n",
        "model.add(Conv2D(16, (5, 5), strides=(2, 2), padding=\"same\"))\n",
        "model.add(ELU())\n",
        "\n",
        "model.add(BatchNormalization())\n",
        "model.add(Conv2D(32, (5, 5), strides=(2, 2), padding=\"same\"))\n",
        "model.add(ELU())\n",
        "\n",
        "model.add(BatchNormalization())\n",
        "model.add(Conv2D(64, (3, 3), strides=(2, 2), padding=\"same\"))\n",
        "model.add(ELU())\n",
        "\n",
        "model.add(BatchNormalization())\n",
        "model.add(Conv2D(128, (3, 3), strides=(2, 2), padding=\"same\"))\n",
        "model.add(ELU())\n",
        "\n",
        "model.add(Flatten())\n",
        "model.add(ELU())\n",
        "\n",
        "model.add(Dense(512))\n",
        "model.add(Dropout(.2))\n",
        "model.add(ELU())\n",
        "\n",
        "model.add(Dense(100))\n",
        "model.add(Dropout(.5))\n",
        "model.add(ELU())\n",
        "\n",
        "model.add(Dense(10))\n",
        "model.add(Dropout(.5))\n",
        "model.add(ELU())\n",
        "\n",
        "model.add(Dense(1))\n",
        "\n",
        "adam = Adam(lr=1e-5)\n",
        "model.compile(optimizer= adam, loss=\"mse\", metrics=['accuracy'])\n",
        "\n",
        "#Showing model and params, it is a heavy network with nearly 2.2 bilion params\n",
        "model.summary()"
      ],
      "execution_count": 0,
      "outputs": []
    },
    {
      "metadata": {
        "id": "qRHHqRhWoGQ9",
        "colab_type": "code",
        "colab": {
          "autoexec": {
            "startup": false,
            "wait_interval": 0
          }
        }
      },
      "cell_type": "code",
      "source": [
        "results = model.fit(X_train_normal, y_train_normal,\n",
        "                    validation_data=(X_valid_normal, y_valid_normal),\n",
        "                    batch_size=32, epochs=1, verbose=1)"
      ],
      "execution_count": 0,
      "outputs": []
    },
    {
      "metadata": {
        "id": "5SQExQD2QPqN",
        "colab_type": "code",
        "colab": {
          "autoexec": {
            "startup": false,
            "wait_interval": 0
          }
        }
      },
      "cell_type": "code",
      "source": [
        "plt.plot(results.history['loss'])\n",
        "plt.plot(results.history['val_loss'])\n",
        "plt.title('Loss')\n",
        "plt.xlabel('epoch')"
      ],
      "execution_count": 0,
      "outputs": []
    },
    {
      "metadata": {
        "id": "NcCWjXwYoPPT",
        "colab_type": "code",
        "colab": {
          "autoexec": {
            "startup": false,
            "wait_interval": 0
          }
        }
      },
      "cell_type": "code",
      "source": [
        "model.save('new_model.h5')"
      ],
      "execution_count": 0,
      "outputs": []
    },
    {
      "metadata": {
        "id": "yLQHNKzaoRfI",
        "colab_type": "code",
        "colab": {
          "autoexec": {
            "startup": false,
            "wait_interval": 0
          }
        }
      },
      "cell_type": "code",
      "source": [
        "from google.colab import files\n",
        "files.download('new_model.h5')"
      ],
      "execution_count": 0,
      "outputs": []
    }
  ]
}